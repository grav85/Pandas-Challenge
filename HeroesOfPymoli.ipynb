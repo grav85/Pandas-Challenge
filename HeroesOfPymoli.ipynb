{
 "cells": [
  {
   "cell_type": "markdown",
   "metadata": {},
   "source": [
    "### Note\n",
    "* Instructions have been included for each segment. You do not have to follow them exactly, but they are included to help you think through the steps."
   ]
  },
  {
   "cell_type": "code",
   "execution_count": 107,
   "metadata": {},
   "outputs": [
    {
     "data": {
      "text/html": [
       "<div>\n",
       "<style scoped>\n",
       "    .dataframe tbody tr th:only-of-type {\n",
       "        vertical-align: middle;\n",
       "    }\n",
       "\n",
       "    .dataframe tbody tr th {\n",
       "        vertical-align: top;\n",
       "    }\n",
       "\n",
       "    .dataframe thead th {\n",
       "        text-align: right;\n",
       "    }\n",
       "</style>\n",
       "<table border=\"1\" class=\"dataframe\">\n",
       "  <thead>\n",
       "    <tr style=\"text-align: right;\">\n",
       "      <th></th>\n",
       "      <th>Purchase ID</th>\n",
       "      <th>SN</th>\n",
       "      <th>Age</th>\n",
       "      <th>Gender</th>\n",
       "      <th>Item ID</th>\n",
       "      <th>Item Name</th>\n",
       "      <th>Price</th>\n",
       "    </tr>\n",
       "  </thead>\n",
       "  <tbody>\n",
       "    <tr>\n",
       "      <th>0</th>\n",
       "      <td>0</td>\n",
       "      <td>Lisim78</td>\n",
       "      <td>20</td>\n",
       "      <td>Male</td>\n",
       "      <td>108</td>\n",
       "      <td>Extraction, Quickblade Of Trembling Hands</td>\n",
       "      <td>3.53</td>\n",
       "    </tr>\n",
       "    <tr>\n",
       "      <th>1</th>\n",
       "      <td>1</td>\n",
       "      <td>Lisovynya38</td>\n",
       "      <td>40</td>\n",
       "      <td>Male</td>\n",
       "      <td>143</td>\n",
       "      <td>Frenzied Scimitar</td>\n",
       "      <td>1.56</td>\n",
       "    </tr>\n",
       "    <tr>\n",
       "      <th>2</th>\n",
       "      <td>2</td>\n",
       "      <td>Ithergue48</td>\n",
       "      <td>24</td>\n",
       "      <td>Male</td>\n",
       "      <td>92</td>\n",
       "      <td>Final Critic</td>\n",
       "      <td>4.88</td>\n",
       "    </tr>\n",
       "    <tr>\n",
       "      <th>3</th>\n",
       "      <td>3</td>\n",
       "      <td>Chamassasya86</td>\n",
       "      <td>24</td>\n",
       "      <td>Male</td>\n",
       "      <td>100</td>\n",
       "      <td>Blindscythe</td>\n",
       "      <td>3.27</td>\n",
       "    </tr>\n",
       "    <tr>\n",
       "      <th>4</th>\n",
       "      <td>4</td>\n",
       "      <td>Iskosia90</td>\n",
       "      <td>23</td>\n",
       "      <td>Male</td>\n",
       "      <td>131</td>\n",
       "      <td>Fury</td>\n",
       "      <td>1.44</td>\n",
       "    </tr>\n",
       "  </tbody>\n",
       "</table>\n",
       "</div>"
      ],
      "text/plain": [
       "   Purchase ID             SN  Age Gender  Item ID  \\\n",
       "0            0        Lisim78   20   Male      108   \n",
       "1            1    Lisovynya38   40   Male      143   \n",
       "2            2     Ithergue48   24   Male       92   \n",
       "3            3  Chamassasya86   24   Male      100   \n",
       "4            4      Iskosia90   23   Male      131   \n",
       "\n",
       "                                   Item Name  Price  \n",
       "0  Extraction, Quickblade Of Trembling Hands   3.53  \n",
       "1                          Frenzied Scimitar   1.56  \n",
       "2                               Final Critic   4.88  \n",
       "3                                Blindscythe   3.27  \n",
       "4                                       Fury   1.44  "
      ]
     },
     "execution_count": 107,
     "metadata": {},
     "output_type": "execute_result"
    }
   ],
   "source": [
    "# Dependencies and Setup\n",
    "import pandas as pd\n",
    "\n",
    "# File to Load (Remember to Change These)\n",
    "csv_path = \"Resources/purchase_data.csv\"\n",
    "\n",
    "# Read Purchasing File and store into Pandas data frame\n",
    "purchase_data_df = pd.read_csv(csv_path)\n",
    "\n",
    "purchase_data_df.head()"
   ]
  },
  {
   "cell_type": "markdown",
   "metadata": {},
   "source": [
    "## Player Count"
   ]
  },
  {
   "cell_type": "markdown",
   "metadata": {},
   "source": [
    "* Display the total number of players\n"
   ]
  },
  {
   "cell_type": "code",
   "execution_count": 108,
   "metadata": {},
   "outputs": [
    {
     "name": "stdout",
     "output_type": "stream",
     "text": [
      "576\n"
     ]
    },
    {
     "data": {
      "text/html": [
       "<div>\n",
       "<style scoped>\n",
       "    .dataframe tbody tr th:only-of-type {\n",
       "        vertical-align: middle;\n",
       "    }\n",
       "\n",
       "    .dataframe tbody tr th {\n",
       "        vertical-align: top;\n",
       "    }\n",
       "\n",
       "    .dataframe thead th {\n",
       "        text-align: right;\n",
       "    }\n",
       "</style>\n",
       "<table border=\"1\" class=\"dataframe\">\n",
       "  <thead>\n",
       "    <tr style=\"text-align: right;\">\n",
       "      <th></th>\n",
       "      <th>Total Players</th>\n",
       "    </tr>\n",
       "  </thead>\n",
       "  <tbody>\n",
       "    <tr>\n",
       "      <th>0</th>\n",
       "      <td>576</td>\n",
       "    </tr>\n",
       "  </tbody>\n",
       "</table>\n",
       "</div>"
      ],
      "text/plain": [
       "   Total Players\n",
       "0            576"
      ]
     },
     "execution_count": 108,
     "metadata": {},
     "output_type": "execute_result"
    }
   ],
   "source": [
    "players = len(purchase_data_df[\"SN\"].unique())\n",
    "print(players)\n",
    "columns = ['Total Players']\n",
    "total_players_df=pd.DataFrame({\n",
    "    \"Total Players\": [players]\n",
    "})\n",
    "total_players_df"
   ]
  },
  {
   "cell_type": "markdown",
   "metadata": {},
   "source": [
    "## Purchasing Analysis (Total)"
   ]
  },
  {
   "cell_type": "markdown",
   "metadata": {},
   "source": [
    "* Run basic calculations to obtain number of unique items, average price, etc.\n",
    "\n",
    "\n",
    "* Create a summary data frame to hold the results\n",
    "\n",
    "\n",
    "* Optional: give the displayed data cleaner formatting\n",
    "\n",
    "\n",
    "* Display the summary data frame\n"
   ]
  },
  {
   "cell_type": "code",
   "execution_count": 109,
   "metadata": {
    "scrolled": true
   },
   "outputs": [
    {
     "data": {
      "text/html": [
       "<style  type=\"text/css\" >\n",
       "</style><table id=\"T_8306ae12_342a_11eb_932f_9cb6d0c2091c\" ><thead>    <tr>        <th class=\"blank level0\" ></th>        <th class=\"col_heading level0 col0\" >Number of Unique Items</th>        <th class=\"col_heading level0 col1\" >Average Price</th>        <th class=\"col_heading level0 col2\" >Number of Purchases</th>        <th class=\"col_heading level0 col3\" >Total Revenue</th>    </tr></thead><tbody>\n",
       "                <tr>\n",
       "                        <th id=\"T_8306ae12_342a_11eb_932f_9cb6d0c2091clevel0_row0\" class=\"row_heading level0 row0\" >0</th>\n",
       "                        <td id=\"T_8306ae12_342a_11eb_932f_9cb6d0c2091crow0_col0\" class=\"data row0 col0\" >179</td>\n",
       "                        <td id=\"T_8306ae12_342a_11eb_932f_9cb6d0c2091crow0_col1\" class=\"data row0 col1\" >$3.05</td>\n",
       "                        <td id=\"T_8306ae12_342a_11eb_932f_9cb6d0c2091crow0_col2\" class=\"data row0 col2\" >780</td>\n",
       "                        <td id=\"T_8306ae12_342a_11eb_932f_9cb6d0c2091crow0_col3\" class=\"data row0 col3\" >$2379.77</td>\n",
       "            </tr>\n",
       "    </tbody></table>"
      ],
      "text/plain": [
       "<pandas.io.formats.style.Styler at 0x18165b69130>"
      ]
     },
     "execution_count": 109,
     "metadata": {},
     "output_type": "execute_result"
    }
   ],
   "source": [
    "total_items = purchase_data_df['Item ID'].nunique()\n",
    "avg_price = purchase_data_df['Price'].mean()\n",
    "total_purchases = purchase_data_df['Purchase ID'].count()\n",
    "total_sales = purchase_data_df['Price'].sum()\n",
    "\n",
    "columns = ['Number of Unique Items', 'Average Price', 'Number of Purchases', 'Total Revenue']\n",
    "purchase_analysis = pd.DataFrame({\n",
    "    \"Number of Unique Items\": [total_items],\n",
    "    \"Average Price\": [avg_price],\n",
    "    \"Number of Purchases\": [total_purchases],\n",
    "    \"Total Revenue\": [total_sales]\n",
    "})\n",
    "purchase_analysis = purchase_analysis.style.format({'Average Price': '${:.3}', \n",
    "                                                   'Total Revenue': '${:.6}'})\n",
    "\n",
    "purchase_analysis"
   ]
  },
  {
   "cell_type": "markdown",
   "metadata": {},
   "source": [
    "## Gender Demographics"
   ]
  },
  {
   "cell_type": "markdown",
   "metadata": {},
   "source": [
    "* Percentage and Count of Male Players\n",
    "\n",
    "\n",
    "* Percentage and Count of Female Players\n",
    "\n",
    "\n",
    "* Percentage and Count of Other / Non-Disclosed\n",
    "\n",
    "\n"
   ]
  },
  {
   "cell_type": "code",
   "execution_count": 110,
   "metadata": {},
   "outputs": [
    {
     "name": "stdout",
     "output_type": "stream",
     "text": [
      "Male                     484\n",
      "Female                    81\n",
      "Other / Non-Disclosed     11\n",
      "Name: Gender, dtype: int64\n",
      "Male                     84.027778\n",
      "Female                   14.062500\n",
      "Other / Non-Disclosed     1.909722\n",
      "Name: Gender, dtype: float64\n"
     ]
    }
   ],
   "source": [
    "gender_demo_df = purchase_data_df.loc[:, ['SN', 'Age', 'Gender']].drop_duplicates()\n",
    "gender_count=gender_demo_df['Gender'].value_counts()\n",
    "percentage = gender_count/players*100\n",
    "\n",
    "print(gender_count)\n",
    "print(percentage)"
   ]
  },
  {
   "cell_type": "code",
   "execution_count": 111,
   "metadata": {},
   "outputs": [
    {
     "data": {
      "text/html": [
       "<style  type=\"text/css\" >\n",
       "</style><table id=\"T_8522628c_342a_11eb_81a6_9cb6d0c2091c\" ><thead>    <tr>        <th class=\"blank level0\" ></th>        <th class=\"col_heading level0 col0\" >Total</th>        <th class=\"col_heading level0 col1\" >Percentage</th>    </tr></thead><tbody>\n",
       "                <tr>\n",
       "                        <th id=\"T_8522628c_342a_11eb_81a6_9cb6d0c2091clevel0_row0\" class=\"row_heading level0 row0\" >Male</th>\n",
       "                        <td id=\"T_8522628c_342a_11eb_81a6_9cb6d0c2091crow0_col0\" class=\"data row0 col0\" >484</td>\n",
       "                        <td id=\"T_8522628c_342a_11eb_81a6_9cb6d0c2091crow0_col1\" class=\"data row0 col1\" >84.03%</td>\n",
       "            </tr>\n",
       "            <tr>\n",
       "                        <th id=\"T_8522628c_342a_11eb_81a6_9cb6d0c2091clevel0_row1\" class=\"row_heading level0 row1\" >Female</th>\n",
       "                        <td id=\"T_8522628c_342a_11eb_81a6_9cb6d0c2091crow1_col0\" class=\"data row1 col0\" >81</td>\n",
       "                        <td id=\"T_8522628c_342a_11eb_81a6_9cb6d0c2091crow1_col1\" class=\"data row1 col1\" >14.06%</td>\n",
       "            </tr>\n",
       "            <tr>\n",
       "                        <th id=\"T_8522628c_342a_11eb_81a6_9cb6d0c2091clevel0_row2\" class=\"row_heading level0 row2\" >Other / Non-Disclosed</th>\n",
       "                        <td id=\"T_8522628c_342a_11eb_81a6_9cb6d0c2091crow2_col0\" class=\"data row2 col0\" >11</td>\n",
       "                        <td id=\"T_8522628c_342a_11eb_81a6_9cb6d0c2091crow2_col1\" class=\"data row2 col1\" >1.91%</td>\n",
       "            </tr>\n",
       "    </tbody></table>"
      ],
      "text/plain": [
       "<pandas.io.formats.style.Styler at 0x18165b69a60>"
      ]
     },
     "execution_count": 111,
     "metadata": {},
     "output_type": "execute_result"
    }
   ],
   "source": [
    "gender_demo_summary = pd.DataFrame({\n",
    "    \"Total\": gender_count,\n",
    "    \"Percentage\": percentage\n",
    "}).style.format({'Percentage': '{:.4}%'})\n",
    "gender_demo_summary"
   ]
  },
  {
   "cell_type": "markdown",
   "metadata": {},
   "source": [
    "\n",
    "## Purchasing Analysis (Gender)"
   ]
  },
  {
   "cell_type": "markdown",
   "metadata": {},
   "source": [
    "* Run basic calculations to obtain purchase count, avg. purchase price, avg. purchase total per person etc. by gender\n",
    "\n",
    "\n",
    "\n",
    "\n",
    "* Create a summary data frame to hold the results\n",
    "\n",
    "\n",
    "* Optional: give the displayed data cleaner formatting\n",
    "\n",
    "\n",
    "* Display the summary data frame"
   ]
  },
  {
   "cell_type": "code",
   "execution_count": 112,
   "metadata": {},
   "outputs": [
    {
     "data": {
      "text/html": [
       "<style  type=\"text/css\" >\n",
       "</style><table id=\"T_864b45ad_342a_11eb_817c_9cb6d0c2091c\" ><thead>    <tr>        <th class=\"blank level0\" ></th>        <th class=\"col_heading level0 col0\" >Purchase Count</th>        <th class=\"col_heading level0 col1\" >Average Purchase Price</th>        <th class=\"col_heading level0 col2\" >Total Purchase Price</th>        <th class=\"col_heading level0 col3\" >Average Purchase Total per Gender</th>    </tr>    <tr>        <th class=\"index_name level0\" >Gender</th>        <th class=\"blank\" ></th>        <th class=\"blank\" ></th>        <th class=\"blank\" ></th>        <th class=\"blank\" ></th>    </tr></thead><tbody>\n",
       "                <tr>\n",
       "                        <th id=\"T_864b45ad_342a_11eb_817c_9cb6d0c2091clevel0_row0\" class=\"row_heading level0 row0\" >Female</th>\n",
       "                        <td id=\"T_864b45ad_342a_11eb_817c_9cb6d0c2091crow0_col0\" class=\"data row0 col0\" >113</td>\n",
       "                        <td id=\"T_864b45ad_342a_11eb_817c_9cb6d0c2091crow0_col1\" class=\"data row0 col1\" >$3.2</td>\n",
       "                        <td id=\"T_864b45ad_342a_11eb_817c_9cb6d0c2091crow0_col2\" class=\"data row0 col2\" >$361.94</td>\n",
       "                        <td id=\"T_864b45ad_342a_11eb_817c_9cb6d0c2091crow0_col3\" class=\"data row0 col3\" >$3.2</td>\n",
       "            </tr>\n",
       "            <tr>\n",
       "                        <th id=\"T_864b45ad_342a_11eb_817c_9cb6d0c2091clevel0_row1\" class=\"row_heading level0 row1\" >Male</th>\n",
       "                        <td id=\"T_864b45ad_342a_11eb_817c_9cb6d0c2091crow1_col0\" class=\"data row1 col0\" >652</td>\n",
       "                        <td id=\"T_864b45ad_342a_11eb_817c_9cb6d0c2091crow1_col1\" class=\"data row1 col1\" >$3.02</td>\n",
       "                        <td id=\"T_864b45ad_342a_11eb_817c_9cb6d0c2091crow1_col2\" class=\"data row1 col2\" >$1967.64</td>\n",
       "                        <td id=\"T_864b45ad_342a_11eb_817c_9cb6d0c2091crow1_col3\" class=\"data row1 col3\" >$3.02</td>\n",
       "            </tr>\n",
       "            <tr>\n",
       "                        <th id=\"T_864b45ad_342a_11eb_817c_9cb6d0c2091clevel0_row2\" class=\"row_heading level0 row2\" >Other / Non-Disclosed</th>\n",
       "                        <td id=\"T_864b45ad_342a_11eb_817c_9cb6d0c2091crow2_col0\" class=\"data row2 col0\" >15</td>\n",
       "                        <td id=\"T_864b45ad_342a_11eb_817c_9cb6d0c2091crow2_col1\" class=\"data row2 col1\" >$3.35</td>\n",
       "                        <td id=\"T_864b45ad_342a_11eb_817c_9cb6d0c2091crow2_col2\" class=\"data row2 col2\" >$50.19</td>\n",
       "                        <td id=\"T_864b45ad_342a_11eb_817c_9cb6d0c2091crow2_col3\" class=\"data row2 col3\" >$3.35</td>\n",
       "            </tr>\n",
       "    </tbody></table>"
      ],
      "text/plain": [
       "<pandas.io.formats.style.Styler at 0x18165749310>"
      ]
     },
     "execution_count": 112,
     "metadata": {},
     "output_type": "execute_result"
    }
   ],
   "source": [
    "gender_analysis = purchase_data_df.groupby([\"Gender\"])[\"Price\"].agg(['sum', 'count', 'mean'])\n",
    "gen_avg_sale = gender_analysis['sum'] / gender_analysis['count']\n",
    "gender_sales_summary = pd.DataFrame({\n",
    "    \"Purchase Count\": gender_analysis['count'],\n",
    "    \"Average Purchase Price\": gender_analysis['mean'],\n",
    "    \"Total Purchase Price\": gender_analysis['sum'],\n",
    "    \"Average Purchase Total per Gender\": gen_avg_sale \n",
    "})\n",
    "gender_sales_summary = gender_sales_summary.style.format({'Average Purchase Price': '${:.3}', \n",
    "                                                          'Total Purchase Price': '${:.6}', \n",
    "                                                          'Average Purchase Total per Gender': '${:.3}'})\n",
    "gender_sales_summary"
   ]
  },
  {
   "cell_type": "markdown",
   "metadata": {},
   "source": [
    "## Age Demographics"
   ]
  },
  {
   "cell_type": "markdown",
   "metadata": {},
   "source": [
    "* Establish bins for ages\n",
    "\n",
    "\n",
    "* Categorize the existing players using the age bins. Hint: use pd.cut()\n",
    "\n",
    "\n",
    "* Calculate the numbers and percentages by age group\n",
    "\n",
    "\n",
    "* Create a summary data frame to hold the results\n",
    "\n",
    "\n",
    "* Optional: round the percentage column to two decimal points\n",
    "\n",
    "\n",
    "* Display Age Demographics Table\n"
   ]
  },
  {
   "cell_type": "code",
   "execution_count": 113,
   "metadata": {},
   "outputs": [
    {
     "data": {
      "text/plain": [
       "0    20-24\n",
       "1      40+\n",
       "2    20-24\n",
       "3    20-24\n",
       "4    20-24\n",
       "Name: Age, dtype: category\n",
       "Categories (8, object): [<10 < 10-14 < 15-19 < 20-24 < 25-29 < 30-34 < 35-39 < 40+]"
      ]
     },
     "execution_count": 113,
     "metadata": {},
     "output_type": "execute_result"
    }
   ],
   "source": [
    "bins = [0, 9.99, 14.99, 19.99, 24.99, 29.99, 34.99, 39.99, 10000]\n",
    "bin_names = [\"<10\", \"10-14\", \"15-19\", \"20-24\", \"25-29\", \"30-34\", \"35-39\", \"40+\"]\n",
    "\n",
    "pd.cut(purchase_data_df[\"Age\"], bins, labels=bin_names).head()"
   ]
  },
  {
   "cell_type": "code",
   "execution_count": 114,
   "metadata": {
    "scrolled": true
   },
   "outputs": [
    {
     "data": {
      "text/html": [
       "<div>\n",
       "<style scoped>\n",
       "    .dataframe tbody tr th:only-of-type {\n",
       "        vertical-align: middle;\n",
       "    }\n",
       "\n",
       "    .dataframe tbody tr th {\n",
       "        vertical-align: top;\n",
       "    }\n",
       "\n",
       "    .dataframe thead th {\n",
       "        text-align: right;\n",
       "    }\n",
       "</style>\n",
       "<table border=\"1\" class=\"dataframe\">\n",
       "  <thead>\n",
       "    <tr style=\"text-align: right;\">\n",
       "      <th></th>\n",
       "      <th>Purchase ID</th>\n",
       "      <th>SN</th>\n",
       "      <th>Age</th>\n",
       "      <th>Gender</th>\n",
       "      <th>Item ID</th>\n",
       "      <th>Item Name</th>\n",
       "      <th>Price</th>\n",
       "      <th>Age Group</th>\n",
       "    </tr>\n",
       "  </thead>\n",
       "  <tbody>\n",
       "    <tr>\n",
       "      <th>0</th>\n",
       "      <td>0</td>\n",
       "      <td>Lisim78</td>\n",
       "      <td>20</td>\n",
       "      <td>Male</td>\n",
       "      <td>108</td>\n",
       "      <td>Extraction, Quickblade Of Trembling Hands</td>\n",
       "      <td>3.53</td>\n",
       "      <td>20-24</td>\n",
       "    </tr>\n",
       "    <tr>\n",
       "      <th>1</th>\n",
       "      <td>1</td>\n",
       "      <td>Lisovynya38</td>\n",
       "      <td>40</td>\n",
       "      <td>Male</td>\n",
       "      <td>143</td>\n",
       "      <td>Frenzied Scimitar</td>\n",
       "      <td>1.56</td>\n",
       "      <td>40+</td>\n",
       "    </tr>\n",
       "    <tr>\n",
       "      <th>2</th>\n",
       "      <td>2</td>\n",
       "      <td>Ithergue48</td>\n",
       "      <td>24</td>\n",
       "      <td>Male</td>\n",
       "      <td>92</td>\n",
       "      <td>Final Critic</td>\n",
       "      <td>4.88</td>\n",
       "      <td>20-24</td>\n",
       "    </tr>\n",
       "    <tr>\n",
       "      <th>3</th>\n",
       "      <td>3</td>\n",
       "      <td>Chamassasya86</td>\n",
       "      <td>24</td>\n",
       "      <td>Male</td>\n",
       "      <td>100</td>\n",
       "      <td>Blindscythe</td>\n",
       "      <td>3.27</td>\n",
       "      <td>20-24</td>\n",
       "    </tr>\n",
       "    <tr>\n",
       "      <th>4</th>\n",
       "      <td>4</td>\n",
       "      <td>Iskosia90</td>\n",
       "      <td>23</td>\n",
       "      <td>Male</td>\n",
       "      <td>131</td>\n",
       "      <td>Fury</td>\n",
       "      <td>1.44</td>\n",
       "      <td>20-24</td>\n",
       "    </tr>\n",
       "  </tbody>\n",
       "</table>\n",
       "</div>"
      ],
      "text/plain": [
       "   Purchase ID             SN  Age Gender  Item ID  \\\n",
       "0            0        Lisim78   20   Male      108   \n",
       "1            1    Lisovynya38   40   Male      143   \n",
       "2            2     Ithergue48   24   Male       92   \n",
       "3            3  Chamassasya86   24   Male      100   \n",
       "4            4      Iskosia90   23   Male      131   \n",
       "\n",
       "                                   Item Name  Price Age Group  \n",
       "0  Extraction, Quickblade Of Trembling Hands   3.53     20-24  \n",
       "1                          Frenzied Scimitar   1.56       40+  \n",
       "2                               Final Critic   4.88     20-24  \n",
       "3                                Blindscythe   3.27     20-24  \n",
       "4                                       Fury   1.44     20-24  "
      ]
     },
     "execution_count": 114,
     "metadata": {},
     "output_type": "execute_result"
    }
   ],
   "source": [
    "purchase_data_df[\"Age Group\"] = pd.cut(purchase_data_df[\"Age\"], bins, labels=bin_names)\n",
    "purchase_data_df.head()"
   ]
  },
  {
   "cell_type": "code",
   "execution_count": 115,
   "metadata": {},
   "outputs": [
    {
     "data": {
      "text/html": [
       "<div>\n",
       "<style scoped>\n",
       "    .dataframe tbody tr th:only-of-type {\n",
       "        vertical-align: middle;\n",
       "    }\n",
       "\n",
       "    .dataframe tbody tr th {\n",
       "        vertical-align: top;\n",
       "    }\n",
       "\n",
       "    .dataframe thead th {\n",
       "        text-align: right;\n",
       "    }\n",
       "</style>\n",
       "<table border=\"1\" class=\"dataframe\">\n",
       "  <thead>\n",
       "    <tr style=\"text-align: right;\">\n",
       "      <th></th>\n",
       "      <th>sum</th>\n",
       "      <th>count</th>\n",
       "      <th>mean</th>\n",
       "    </tr>\n",
       "    <tr>\n",
       "      <th>Age Group</th>\n",
       "      <th></th>\n",
       "      <th></th>\n",
       "      <th></th>\n",
       "    </tr>\n",
       "  </thead>\n",
       "  <tbody>\n",
       "    <tr>\n",
       "      <th>&lt;10</th>\n",
       "      <td>59.64</td>\n",
       "      <td>17</td>\n",
       "      <td>3.508235</td>\n",
       "    </tr>\n",
       "    <tr>\n",
       "      <th>10-14</th>\n",
       "      <td>67.04</td>\n",
       "      <td>22</td>\n",
       "      <td>3.047273</td>\n",
       "    </tr>\n",
       "    <tr>\n",
       "      <th>15-19</th>\n",
       "      <td>329.99</td>\n",
       "      <td>107</td>\n",
       "      <td>3.084019</td>\n",
       "    </tr>\n",
       "    <tr>\n",
       "      <th>20-24</th>\n",
       "      <td>772.08</td>\n",
       "      <td>258</td>\n",
       "      <td>2.992558</td>\n",
       "    </tr>\n",
       "    <tr>\n",
       "      <th>25-29</th>\n",
       "      <td>212.15</td>\n",
       "      <td>77</td>\n",
       "      <td>2.755195</td>\n",
       "    </tr>\n",
       "    <tr>\n",
       "      <th>30-34</th>\n",
       "      <td>152.56</td>\n",
       "      <td>52</td>\n",
       "      <td>2.933846</td>\n",
       "    </tr>\n",
       "    <tr>\n",
       "      <th>35-39</th>\n",
       "      <td>111.61</td>\n",
       "      <td>31</td>\n",
       "      <td>3.600323</td>\n",
       "    </tr>\n",
       "    <tr>\n",
       "      <th>40+</th>\n",
       "      <td>34.84</td>\n",
       "      <td>12</td>\n",
       "      <td>2.903333</td>\n",
       "    </tr>\n",
       "  </tbody>\n",
       "</table>\n",
       "</div>"
      ],
      "text/plain": [
       "              sum  count      mean\n",
       "Age Group                         \n",
       "<10         59.64     17  3.508235\n",
       "10-14       67.04     22  3.047273\n",
       "15-19      329.99    107  3.084019\n",
       "20-24      772.08    258  2.992558\n",
       "25-29      212.15     77  2.755195\n",
       "30-34      152.56     52  2.933846\n",
       "35-39      111.61     31  3.600323\n",
       "40+         34.84     12  2.903333"
      ]
     },
     "execution_count": 115,
     "metadata": {},
     "output_type": "execute_result"
    }
   ],
   "source": [
    "age_demo_df = purchase_data_df.drop_duplicates(subset=['SN', 'Age'], keep='last')\n",
    "age_demo = age_demo_df.groupby([\"Age Group\"])[\"Price\"].agg(['sum', 'count', 'mean'])\n",
    "age_demo\n"
   ]
  },
  {
   "cell_type": "code",
   "execution_count": 116,
   "metadata": {},
   "outputs": [
    {
     "data": {
      "text/html": [
       "<style  type=\"text/css\" >\n",
       "</style><table id=\"T_88a20748_342a_11eb_ad7b_9cb6d0c2091c\" ><thead>    <tr>        <th class=\"blank level0\" ></th>        <th class=\"col_heading level0 col0\" >Count</th>        <th class=\"col_heading level0 col1\" >Age Percentage</th>    </tr>    <tr>        <th class=\"index_name level0\" >Age Group</th>        <th class=\"blank\" ></th>        <th class=\"blank\" ></th>    </tr></thead><tbody>\n",
       "                <tr>\n",
       "                        <th id=\"T_88a20748_342a_11eb_ad7b_9cb6d0c2091clevel0_row0\" class=\"row_heading level0 row0\" ><10</th>\n",
       "                        <td id=\"T_88a20748_342a_11eb_ad7b_9cb6d0c2091crow0_col0\" class=\"data row0 col0\" >17</td>\n",
       "                        <td id=\"T_88a20748_342a_11eb_ad7b_9cb6d0c2091crow0_col1\" class=\"data row0 col1\" >2.95%</td>\n",
       "            </tr>\n",
       "            <tr>\n",
       "                        <th id=\"T_88a20748_342a_11eb_ad7b_9cb6d0c2091clevel0_row1\" class=\"row_heading level0 row1\" >10-14</th>\n",
       "                        <td id=\"T_88a20748_342a_11eb_ad7b_9cb6d0c2091crow1_col0\" class=\"data row1 col0\" >22</td>\n",
       "                        <td id=\"T_88a20748_342a_11eb_ad7b_9cb6d0c2091crow1_col1\" class=\"data row1 col1\" >3.82%</td>\n",
       "            </tr>\n",
       "            <tr>\n",
       "                        <th id=\"T_88a20748_342a_11eb_ad7b_9cb6d0c2091clevel0_row2\" class=\"row_heading level0 row2\" >15-19</th>\n",
       "                        <td id=\"T_88a20748_342a_11eb_ad7b_9cb6d0c2091crow2_col0\" class=\"data row2 col0\" >107</td>\n",
       "                        <td id=\"T_88a20748_342a_11eb_ad7b_9cb6d0c2091crow2_col1\" class=\"data row2 col1\" >18.6%</td>\n",
       "            </tr>\n",
       "            <tr>\n",
       "                        <th id=\"T_88a20748_342a_11eb_ad7b_9cb6d0c2091clevel0_row3\" class=\"row_heading level0 row3\" >20-24</th>\n",
       "                        <td id=\"T_88a20748_342a_11eb_ad7b_9cb6d0c2091crow3_col0\" class=\"data row3 col0\" >258</td>\n",
       "                        <td id=\"T_88a20748_342a_11eb_ad7b_9cb6d0c2091crow3_col1\" class=\"data row3 col1\" >44.8%</td>\n",
       "            </tr>\n",
       "            <tr>\n",
       "                        <th id=\"T_88a20748_342a_11eb_ad7b_9cb6d0c2091clevel0_row4\" class=\"row_heading level0 row4\" >25-29</th>\n",
       "                        <td id=\"T_88a20748_342a_11eb_ad7b_9cb6d0c2091crow4_col0\" class=\"data row4 col0\" >77</td>\n",
       "                        <td id=\"T_88a20748_342a_11eb_ad7b_9cb6d0c2091crow4_col1\" class=\"data row4 col1\" >13.4%</td>\n",
       "            </tr>\n",
       "            <tr>\n",
       "                        <th id=\"T_88a20748_342a_11eb_ad7b_9cb6d0c2091clevel0_row5\" class=\"row_heading level0 row5\" >30-34</th>\n",
       "                        <td id=\"T_88a20748_342a_11eb_ad7b_9cb6d0c2091crow5_col0\" class=\"data row5 col0\" >52</td>\n",
       "                        <td id=\"T_88a20748_342a_11eb_ad7b_9cb6d0c2091crow5_col1\" class=\"data row5 col1\" >9.03%</td>\n",
       "            </tr>\n",
       "            <tr>\n",
       "                        <th id=\"T_88a20748_342a_11eb_ad7b_9cb6d0c2091clevel0_row6\" class=\"row_heading level0 row6\" >35-39</th>\n",
       "                        <td id=\"T_88a20748_342a_11eb_ad7b_9cb6d0c2091crow6_col0\" class=\"data row6 col0\" >31</td>\n",
       "                        <td id=\"T_88a20748_342a_11eb_ad7b_9cb6d0c2091crow6_col1\" class=\"data row6 col1\" >5.38%</td>\n",
       "            </tr>\n",
       "            <tr>\n",
       "                        <th id=\"T_88a20748_342a_11eb_ad7b_9cb6d0c2091clevel0_row7\" class=\"row_heading level0 row7\" >40+</th>\n",
       "                        <td id=\"T_88a20748_342a_11eb_ad7b_9cb6d0c2091crow7_col0\" class=\"data row7 col0\" >12</td>\n",
       "                        <td id=\"T_88a20748_342a_11eb_ad7b_9cb6d0c2091crow7_col1\" class=\"data row7 col1\" >2.08%</td>\n",
       "            </tr>\n",
       "    </tbody></table>"
      ],
      "text/plain": [
       "<pandas.io.formats.style.Styler at 0x18165b4b760>"
      ]
     },
     "execution_count": 116,
     "metadata": {},
     "output_type": "execute_result"
    }
   ],
   "source": [
    "age_percentage = age_demo[\"count\"] / players\n",
    "age_demo_summary = pd.DataFrame({\n",
    "    \"Count\": age_demo['count'],\n",
    "    \"Age Percentage\": age_percentage*100\n",
    "})\n",
    "age_demo_summary = age_demo_summary.style.format({'Age Percentage': '{:.3}%'})\n",
    "age_demo_summary"
   ]
  },
  {
   "cell_type": "markdown",
   "metadata": {},
   "source": [
    "## Purchasing Analysis (Age)"
   ]
  },
  {
   "cell_type": "markdown",
   "metadata": {},
   "source": [
    "* Bin the purchase_data data frame by age\n",
    "\n",
    "\n",
    "* Run basic calculations to obtain purchase count, avg. purchase price, avg. purchase total per person etc. in the table below\n",
    "\n",
    "\n",
    "* Create a summary data frame to hold the results\n",
    "\n",
    "\n",
    "* Optional: give the displayed data cleaner formatting\n",
    "\n",
    "\n",
    "* Display the summary data frame"
   ]
  },
  {
   "cell_type": "code",
   "execution_count": 117,
   "metadata": {},
   "outputs": [
    {
     "data": {
      "text/html": [
       "<style  type=\"text/css\" >\n",
       "</style><table id=\"T_8c814061_342a_11eb_a090_9cb6d0c2091c\" ><thead>    <tr>        <th class=\"blank level0\" ></th>        <th class=\"col_heading level0 col0\" >Purchase Count</th>        <th class=\"col_heading level0 col1\" >Average Purchase Price</th>        <th class=\"col_heading level0 col2\" >Total Purchase Price</th>        <th class=\"col_heading level0 col3\" >Average Purchase Total per Age</th>    </tr>    <tr>        <th class=\"index_name level0\" >Age Group</th>        <th class=\"blank\" ></th>        <th class=\"blank\" ></th>        <th class=\"blank\" ></th>        <th class=\"blank\" ></th>    </tr></thead><tbody>\n",
       "                <tr>\n",
       "                        <th id=\"T_8c814061_342a_11eb_a090_9cb6d0c2091clevel0_row0\" class=\"row_heading level0 row0\" ><10</th>\n",
       "                        <td id=\"T_8c814061_342a_11eb_a090_9cb6d0c2091crow0_col0\" class=\"data row0 col0\" >17</td>\n",
       "                        <td id=\"T_8c814061_342a_11eb_a090_9cb6d0c2091crow0_col1\" class=\"data row0 col1\" >$3.51</td>\n",
       "                        <td id=\"T_8c814061_342a_11eb_a090_9cb6d0c2091crow0_col2\" class=\"data row0 col2\" >$59.64</td>\n",
       "                        <td id=\"T_8c814061_342a_11eb_a090_9cb6d0c2091crow0_col3\" class=\"data row0 col3\" >$3.51</td>\n",
       "            </tr>\n",
       "            <tr>\n",
       "                        <th id=\"T_8c814061_342a_11eb_a090_9cb6d0c2091clevel0_row1\" class=\"row_heading level0 row1\" >10-14</th>\n",
       "                        <td id=\"T_8c814061_342a_11eb_a090_9cb6d0c2091crow1_col0\" class=\"data row1 col0\" >22</td>\n",
       "                        <td id=\"T_8c814061_342a_11eb_a090_9cb6d0c2091crow1_col1\" class=\"data row1 col1\" >$3.05</td>\n",
       "                        <td id=\"T_8c814061_342a_11eb_a090_9cb6d0c2091crow1_col2\" class=\"data row1 col2\" >$67.04</td>\n",
       "                        <td id=\"T_8c814061_342a_11eb_a090_9cb6d0c2091crow1_col3\" class=\"data row1 col3\" >$3.05</td>\n",
       "            </tr>\n",
       "            <tr>\n",
       "                        <th id=\"T_8c814061_342a_11eb_a090_9cb6d0c2091clevel0_row2\" class=\"row_heading level0 row2\" >15-19</th>\n",
       "                        <td id=\"T_8c814061_342a_11eb_a090_9cb6d0c2091crow2_col0\" class=\"data row2 col0\" >107</td>\n",
       "                        <td id=\"T_8c814061_342a_11eb_a090_9cb6d0c2091crow2_col1\" class=\"data row2 col1\" >$3.08</td>\n",
       "                        <td id=\"T_8c814061_342a_11eb_a090_9cb6d0c2091crow2_col2\" class=\"data row2 col2\" >$329.99</td>\n",
       "                        <td id=\"T_8c814061_342a_11eb_a090_9cb6d0c2091crow2_col3\" class=\"data row2 col3\" >$3.08</td>\n",
       "            </tr>\n",
       "            <tr>\n",
       "                        <th id=\"T_8c814061_342a_11eb_a090_9cb6d0c2091clevel0_row3\" class=\"row_heading level0 row3\" >20-24</th>\n",
       "                        <td id=\"T_8c814061_342a_11eb_a090_9cb6d0c2091crow3_col0\" class=\"data row3 col0\" >258</td>\n",
       "                        <td id=\"T_8c814061_342a_11eb_a090_9cb6d0c2091crow3_col1\" class=\"data row3 col1\" >$2.99</td>\n",
       "                        <td id=\"T_8c814061_342a_11eb_a090_9cb6d0c2091crow3_col2\" class=\"data row3 col2\" >$772.08</td>\n",
       "                        <td id=\"T_8c814061_342a_11eb_a090_9cb6d0c2091crow3_col3\" class=\"data row3 col3\" >$2.99</td>\n",
       "            </tr>\n",
       "            <tr>\n",
       "                        <th id=\"T_8c814061_342a_11eb_a090_9cb6d0c2091clevel0_row4\" class=\"row_heading level0 row4\" >25-29</th>\n",
       "                        <td id=\"T_8c814061_342a_11eb_a090_9cb6d0c2091crow4_col0\" class=\"data row4 col0\" >77</td>\n",
       "                        <td id=\"T_8c814061_342a_11eb_a090_9cb6d0c2091crow4_col1\" class=\"data row4 col1\" >$2.76</td>\n",
       "                        <td id=\"T_8c814061_342a_11eb_a090_9cb6d0c2091crow4_col2\" class=\"data row4 col2\" >$212.15</td>\n",
       "                        <td id=\"T_8c814061_342a_11eb_a090_9cb6d0c2091crow4_col3\" class=\"data row4 col3\" >$2.76</td>\n",
       "            </tr>\n",
       "            <tr>\n",
       "                        <th id=\"T_8c814061_342a_11eb_a090_9cb6d0c2091clevel0_row5\" class=\"row_heading level0 row5\" >30-34</th>\n",
       "                        <td id=\"T_8c814061_342a_11eb_a090_9cb6d0c2091crow5_col0\" class=\"data row5 col0\" >52</td>\n",
       "                        <td id=\"T_8c814061_342a_11eb_a090_9cb6d0c2091crow5_col1\" class=\"data row5 col1\" >$2.93</td>\n",
       "                        <td id=\"T_8c814061_342a_11eb_a090_9cb6d0c2091crow5_col2\" class=\"data row5 col2\" >$152.56</td>\n",
       "                        <td id=\"T_8c814061_342a_11eb_a090_9cb6d0c2091crow5_col3\" class=\"data row5 col3\" >$2.93</td>\n",
       "            </tr>\n",
       "            <tr>\n",
       "                        <th id=\"T_8c814061_342a_11eb_a090_9cb6d0c2091clevel0_row6\" class=\"row_heading level0 row6\" >35-39</th>\n",
       "                        <td id=\"T_8c814061_342a_11eb_a090_9cb6d0c2091crow6_col0\" class=\"data row6 col0\" >31</td>\n",
       "                        <td id=\"T_8c814061_342a_11eb_a090_9cb6d0c2091crow6_col1\" class=\"data row6 col1\" >$3.6</td>\n",
       "                        <td id=\"T_8c814061_342a_11eb_a090_9cb6d0c2091crow6_col2\" class=\"data row6 col2\" >$111.61</td>\n",
       "                        <td id=\"T_8c814061_342a_11eb_a090_9cb6d0c2091crow6_col3\" class=\"data row6 col3\" >$3.6</td>\n",
       "            </tr>\n",
       "            <tr>\n",
       "                        <th id=\"T_8c814061_342a_11eb_a090_9cb6d0c2091clevel0_row7\" class=\"row_heading level0 row7\" >40+</th>\n",
       "                        <td id=\"T_8c814061_342a_11eb_a090_9cb6d0c2091crow7_col0\" class=\"data row7 col0\" >12</td>\n",
       "                        <td id=\"T_8c814061_342a_11eb_a090_9cb6d0c2091crow7_col1\" class=\"data row7 col1\" >$2.9</td>\n",
       "                        <td id=\"T_8c814061_342a_11eb_a090_9cb6d0c2091crow7_col2\" class=\"data row7 col2\" >$34.84</td>\n",
       "                        <td id=\"T_8c814061_342a_11eb_a090_9cb6d0c2091crow7_col3\" class=\"data row7 col3\" >$2.9</td>\n",
       "            </tr>\n",
       "    </tbody></table>"
      ],
      "text/plain": [
       "<pandas.io.formats.style.Styler at 0x18165b2a520>"
      ]
     },
     "execution_count": 117,
     "metadata": {},
     "output_type": "execute_result"
    }
   ],
   "source": [
    "age_avg_sale = age_demo['sum'] / age_demo['count']\n",
    "age_sales_summary = pd.DataFrame({\n",
    "    \"Purchase Count\": age_demo['count'],\n",
    "    \"Average Purchase Price\": age_demo['mean'],\n",
    "    \"Total Purchase Price\": age_demo['sum'],\n",
    "    \"Average Purchase Total per Age\": age_avg_sale \n",
    "})\n",
    "age_sales_summary = age_sales_summary.style.format({'Average Purchase Price': '${:.3}', \n",
    "                                                          'Total Purchase Price': '${:.6}', \n",
    "                                                          'Average Purchase Total per Age': '${:.3}'})\n",
    "age_sales_summary"
   ]
  },
  {
   "cell_type": "markdown",
   "metadata": {},
   "source": [
    "## Top Spenders"
   ]
  },
  {
   "cell_type": "markdown",
   "metadata": {},
   "source": [
    "* Run basic calculations to obtain the results in the table below\n",
    "\n",
    "\n",
    "* Create a summary data frame to hold the results\n",
    "\n",
    "\n",
    "* Sort the total purchase value column in descending order\n",
    "\n",
    "\n",
    "* Optional: give the displayed data cleaner formatting\n",
    "\n",
    "\n",
    "* Display a preview of the summary data frame\n",
    "\n"
   ]
  },
  {
   "cell_type": "code",
   "execution_count": 120,
   "metadata": {},
   "outputs": [
    {
     "data": {
      "text/html": [
       "<style  type=\"text/css\" >\n",
       "</style><table id=\"T_9c0f56ca_342a_11eb_a842_9cb6d0c2091c\" ><thead>    <tr>        <th class=\"blank level0\" ></th>        <th class=\"col_heading level0 col0\" >Purchase Count</th>        <th class=\"col_heading level0 col1\" >Average Purchase Price</th>        <th class=\"col_heading level0 col2\" >Total Sales per Person</th>    </tr>    <tr>        <th class=\"index_name level0\" >SN</th>        <th class=\"blank\" ></th>        <th class=\"blank\" ></th>        <th class=\"blank\" ></th>    </tr></thead><tbody>\n",
       "                <tr>\n",
       "                        <th id=\"T_9c0f56ca_342a_11eb_a842_9cb6d0c2091clevel0_row0\" class=\"row_heading level0 row0\" >Lisosia93</th>\n",
       "                        <td id=\"T_9c0f56ca_342a_11eb_a842_9cb6d0c2091crow0_col0\" class=\"data row0 col0\" >5</td>\n",
       "                        <td id=\"T_9c0f56ca_342a_11eb_a842_9cb6d0c2091crow0_col1\" class=\"data row0 col1\" >$3.79</td>\n",
       "                        <td id=\"T_9c0f56ca_342a_11eb_a842_9cb6d0c2091crow0_col2\" class=\"data row0 col2\" >$18.96</td>\n",
       "            </tr>\n",
       "            <tr>\n",
       "                        <th id=\"T_9c0f56ca_342a_11eb_a842_9cb6d0c2091clevel0_row1\" class=\"row_heading level0 row1\" >Idastidru52</th>\n",
       "                        <td id=\"T_9c0f56ca_342a_11eb_a842_9cb6d0c2091crow1_col0\" class=\"data row1 col0\" >4</td>\n",
       "                        <td id=\"T_9c0f56ca_342a_11eb_a842_9cb6d0c2091crow1_col1\" class=\"data row1 col1\" >$3.86</td>\n",
       "                        <td id=\"T_9c0f56ca_342a_11eb_a842_9cb6d0c2091crow1_col2\" class=\"data row1 col2\" >$15.45</td>\n",
       "            </tr>\n",
       "            <tr>\n",
       "                        <th id=\"T_9c0f56ca_342a_11eb_a842_9cb6d0c2091clevel0_row2\" class=\"row_heading level0 row2\" >Chamjask73</th>\n",
       "                        <td id=\"T_9c0f56ca_342a_11eb_a842_9cb6d0c2091crow2_col0\" class=\"data row2 col0\" >3</td>\n",
       "                        <td id=\"T_9c0f56ca_342a_11eb_a842_9cb6d0c2091crow2_col1\" class=\"data row2 col1\" >$4.61</td>\n",
       "                        <td id=\"T_9c0f56ca_342a_11eb_a842_9cb6d0c2091crow2_col2\" class=\"data row2 col2\" >$13.83</td>\n",
       "            </tr>\n",
       "            <tr>\n",
       "                        <th id=\"T_9c0f56ca_342a_11eb_a842_9cb6d0c2091clevel0_row3\" class=\"row_heading level0 row3\" >Iral74</th>\n",
       "                        <td id=\"T_9c0f56ca_342a_11eb_a842_9cb6d0c2091crow3_col0\" class=\"data row3 col0\" >4</td>\n",
       "                        <td id=\"T_9c0f56ca_342a_11eb_a842_9cb6d0c2091crow3_col1\" class=\"data row3 col1\" >$3.4</td>\n",
       "                        <td id=\"T_9c0f56ca_342a_11eb_a842_9cb6d0c2091crow3_col2\" class=\"data row3 col2\" >$13.62</td>\n",
       "            </tr>\n",
       "            <tr>\n",
       "                        <th id=\"T_9c0f56ca_342a_11eb_a842_9cb6d0c2091clevel0_row4\" class=\"row_heading level0 row4\" >Iskadarya95</th>\n",
       "                        <td id=\"T_9c0f56ca_342a_11eb_a842_9cb6d0c2091crow4_col0\" class=\"data row4 col0\" >3</td>\n",
       "                        <td id=\"T_9c0f56ca_342a_11eb_a842_9cb6d0c2091crow4_col1\" class=\"data row4 col1\" >$4.37</td>\n",
       "                        <td id=\"T_9c0f56ca_342a_11eb_a842_9cb6d0c2091crow4_col2\" class=\"data row4 col2\" >$13.1</td>\n",
       "            </tr>\n",
       "    </tbody></table>"
      ],
      "text/plain": [
       "<pandas.io.formats.style.Styler at 0x181648d0160>"
      ]
     },
     "execution_count": 120,
     "metadata": {},
     "output_type": "execute_result"
    }
   ],
   "source": [
    "user_sales = purchase_data_df.groupby([\"SN\"])[\"Price\"].agg(['sum', 'count', 'mean'])\n",
    "\n",
    "user_sales_summary = pd.DataFrame({\n",
    "    \"Purchase Count\": user_sales['count'],\n",
    "    \"Average Purchase Price\": user_sales['mean'],\n",
    "    \"Total Sales per Person\": user_sales['sum']\n",
    "}).sort_values(\"Total Sales per Person\", ascending=False) \\\n",
    "                    .head(5).style.format({'Average Purchase Price': '${:.3}', \n",
    "                    'Total Sales per Person': '${:.6}', \n",
    "                    'Avg Sale per Person': '${:.3}'})\n",
    "\n",
    "user_sales_summary"
   ]
  },
  {
   "cell_type": "markdown",
   "metadata": {},
   "source": [
    "## Most Popular Items"
   ]
  },
  {
   "cell_type": "markdown",
   "metadata": {},
   "source": [
    "* Retrieve the Item ID, Item Name, and Item Price columns\n",
    "\n",
    "\n",
    "* Group by Item ID and Item Name. Perform calculations to obtain purchase count, average item price, and total purchase value\n",
    "\n",
    "\n",
    "* Create a summary data frame to hold the results\n",
    "\n",
    "\n",
    "* Sort the purchase count column in descending order\n",
    "\n",
    "\n",
    "* Optional: give the displayed data cleaner formatting\n",
    "\n",
    "\n",
    "* Display a preview of the summary data frame\n",
    "\n"
   ]
  },
  {
   "cell_type": "code",
   "execution_count": 123,
   "metadata": {},
   "outputs": [
    {
     "data": {
      "text/html": [
       "<style  type=\"text/css\" >\n",
       "</style><table id=\"T_92621378_342b_11eb_9267_9cb6d0c2091c\" ><thead>    <tr>        <th class=\"blank\" ></th>        <th class=\"blank level0\" ></th>        <th class=\"col_heading level0 col0\" >Item Total Sales</th>        <th class=\"col_heading level0 col1\" >Purchase Count</th>        <th class=\"col_heading level0 col2\" >Avg Item Price</th>    </tr>    <tr>        <th class=\"index_name level0\" >Item ID</th>        <th class=\"index_name level1\" >Item Name</th>        <th class=\"blank\" ></th>        <th class=\"blank\" ></th>        <th class=\"blank\" ></th>    </tr></thead><tbody>\n",
       "                <tr>\n",
       "                        <th id=\"T_92621378_342b_11eb_9267_9cb6d0c2091clevel0_row0\" class=\"row_heading level0 row0\" >92</th>\n",
       "                        <th id=\"T_92621378_342b_11eb_9267_9cb6d0c2091clevel1_row0\" class=\"row_heading level1 row0\" >Final Critic</th>\n",
       "                        <td id=\"T_92621378_342b_11eb_9267_9cb6d0c2091crow0_col0\" class=\"data row0 col0\" >$59.99</td>\n",
       "                        <td id=\"T_92621378_342b_11eb_9267_9cb6d0c2091crow0_col1\" class=\"data row0 col1\" >13</td>\n",
       "                        <td id=\"T_92621378_342b_11eb_9267_9cb6d0c2091crow0_col2\" class=\"data row0 col2\" >$4.61462</td>\n",
       "            </tr>\n",
       "            <tr>\n",
       "                        <th id=\"T_92621378_342b_11eb_9267_9cb6d0c2091clevel0_row1\" class=\"row_heading level0 row1\" >178</th>\n",
       "                        <th id=\"T_92621378_342b_11eb_9267_9cb6d0c2091clevel1_row1\" class=\"row_heading level1 row1\" >Oathbreaker, Last Hope of the Breaking Storm</th>\n",
       "                        <td id=\"T_92621378_342b_11eb_9267_9cb6d0c2091crow1_col0\" class=\"data row1 col0\" >$50.76</td>\n",
       "                        <td id=\"T_92621378_342b_11eb_9267_9cb6d0c2091crow1_col1\" class=\"data row1 col1\" >12</td>\n",
       "                        <td id=\"T_92621378_342b_11eb_9267_9cb6d0c2091crow1_col2\" class=\"data row1 col2\" >$4.23</td>\n",
       "            </tr>\n",
       "            <tr>\n",
       "                        <th id=\"T_92621378_342b_11eb_9267_9cb6d0c2091clevel0_row2\" class=\"row_heading level0 row2\" >145</th>\n",
       "                        <th id=\"T_92621378_342b_11eb_9267_9cb6d0c2091clevel1_row2\" class=\"row_heading level1 row2\" >Fiery Glass Crusader</th>\n",
       "                        <td id=\"T_92621378_342b_11eb_9267_9cb6d0c2091crow2_col0\" class=\"data row2 col0\" >$41.22</td>\n",
       "                        <td id=\"T_92621378_342b_11eb_9267_9cb6d0c2091crow2_col1\" class=\"data row2 col1\" >9</td>\n",
       "                        <td id=\"T_92621378_342b_11eb_9267_9cb6d0c2091crow2_col2\" class=\"data row2 col2\" >$4.58</td>\n",
       "            </tr>\n",
       "            <tr>\n",
       "                        <th id=\"T_92621378_342b_11eb_9267_9cb6d0c2091clevel0_row3\" class=\"row_heading level0 row3\" >132</th>\n",
       "                        <th id=\"T_92621378_342b_11eb_9267_9cb6d0c2091clevel1_row3\" class=\"row_heading level1 row3\" >Persuasion</th>\n",
       "                        <td id=\"T_92621378_342b_11eb_9267_9cb6d0c2091crow3_col0\" class=\"data row3 col0\" >$28.99</td>\n",
       "                        <td id=\"T_92621378_342b_11eb_9267_9cb6d0c2091crow3_col1\" class=\"data row3 col1\" >9</td>\n",
       "                        <td id=\"T_92621378_342b_11eb_9267_9cb6d0c2091crow3_col2\" class=\"data row3 col2\" >$3.22111</td>\n",
       "            </tr>\n",
       "            <tr>\n",
       "                        <th id=\"T_92621378_342b_11eb_9267_9cb6d0c2091clevel0_row4\" class=\"row_heading level0 row4\" >108</th>\n",
       "                        <th id=\"T_92621378_342b_11eb_9267_9cb6d0c2091clevel1_row4\" class=\"row_heading level1 row4\" >Extraction, Quickblade Of Trembling Hands</th>\n",
       "                        <td id=\"T_92621378_342b_11eb_9267_9cb6d0c2091crow4_col0\" class=\"data row4 col0\" >$31.77</td>\n",
       "                        <td id=\"T_92621378_342b_11eb_9267_9cb6d0c2091crow4_col1\" class=\"data row4 col1\" >9</td>\n",
       "                        <td id=\"T_92621378_342b_11eb_9267_9cb6d0c2091crow4_col2\" class=\"data row4 col2\" >$3.53</td>\n",
       "            </tr>\n",
       "            <tr>\n",
       "                        <th id=\"T_92621378_342b_11eb_9267_9cb6d0c2091clevel0_row5\" class=\"row_heading level0 row5\" >82</th>\n",
       "                        <th id=\"T_92621378_342b_11eb_9267_9cb6d0c2091clevel1_row5\" class=\"row_heading level1 row5\" >Nirvana</th>\n",
       "                        <td id=\"T_92621378_342b_11eb_9267_9cb6d0c2091crow5_col0\" class=\"data row5 col0\" >$44.1</td>\n",
       "                        <td id=\"T_92621378_342b_11eb_9267_9cb6d0c2091crow5_col1\" class=\"data row5 col1\" >9</td>\n",
       "                        <td id=\"T_92621378_342b_11eb_9267_9cb6d0c2091crow5_col2\" class=\"data row5 col2\" >$4.9</td>\n",
       "            </tr>\n",
       "            <tr>\n",
       "                        <th id=\"T_92621378_342b_11eb_9267_9cb6d0c2091clevel0_row6\" class=\"row_heading level0 row6\" >75</th>\n",
       "                        <th id=\"T_92621378_342b_11eb_9267_9cb6d0c2091clevel1_row6\" class=\"row_heading level1 row6\" >Brutality Ivory Warmace</th>\n",
       "                        <td id=\"T_92621378_342b_11eb_9267_9cb6d0c2091crow6_col0\" class=\"data row6 col0\" >$19.36</td>\n",
       "                        <td id=\"T_92621378_342b_11eb_9267_9cb6d0c2091crow6_col1\" class=\"data row6 col1\" >8</td>\n",
       "                        <td id=\"T_92621378_342b_11eb_9267_9cb6d0c2091crow6_col2\" class=\"data row6 col2\" >$2.42</td>\n",
       "            </tr>\n",
       "            <tr>\n",
       "                        <th id=\"T_92621378_342b_11eb_9267_9cb6d0c2091clevel0_row7\" class=\"row_heading level0 row7\" >103</th>\n",
       "                        <th id=\"T_92621378_342b_11eb_9267_9cb6d0c2091clevel1_row7\" class=\"row_heading level1 row7\" >Singed Scalpel</th>\n",
       "                        <td id=\"T_92621378_342b_11eb_9267_9cb6d0c2091crow7_col0\" class=\"data row7 col0\" >$34.8</td>\n",
       "                        <td id=\"T_92621378_342b_11eb_9267_9cb6d0c2091crow7_col1\" class=\"data row7 col1\" >8</td>\n",
       "                        <td id=\"T_92621378_342b_11eb_9267_9cb6d0c2091crow7_col2\" class=\"data row7 col2\" >$4.35</td>\n",
       "            </tr>\n",
       "            <tr>\n",
       "                        <th id=\"T_92621378_342b_11eb_9267_9cb6d0c2091clevel0_row8\" class=\"row_heading level0 row8\" >34</th>\n",
       "                        <th id=\"T_92621378_342b_11eb_9267_9cb6d0c2091clevel1_row8\" class=\"row_heading level1 row8\" >Retribution Axe</th>\n",
       "                        <td id=\"T_92621378_342b_11eb_9267_9cb6d0c2091crow8_col0\" class=\"data row8 col0\" >$17.76</td>\n",
       "                        <td id=\"T_92621378_342b_11eb_9267_9cb6d0c2091crow8_col1\" class=\"data row8 col1\" >8</td>\n",
       "                        <td id=\"T_92621378_342b_11eb_9267_9cb6d0c2091crow8_col2\" class=\"data row8 col2\" >$2.22</td>\n",
       "            </tr>\n",
       "            <tr>\n",
       "                        <th id=\"T_92621378_342b_11eb_9267_9cb6d0c2091clevel0_row9\" class=\"row_heading level0 row9\" >37</th>\n",
       "                        <th id=\"T_92621378_342b_11eb_9267_9cb6d0c2091clevel1_row9\" class=\"row_heading level1 row9\" >Shadow Strike, Glory of Ending Hope</th>\n",
       "                        <td id=\"T_92621378_342b_11eb_9267_9cb6d0c2091crow9_col0\" class=\"data row9 col0\" >$25.28</td>\n",
       "                        <td id=\"T_92621378_342b_11eb_9267_9cb6d0c2091crow9_col1\" class=\"data row9 col1\" >8</td>\n",
       "                        <td id=\"T_92621378_342b_11eb_9267_9cb6d0c2091crow9_col2\" class=\"data row9 col2\" >$3.16</td>\n",
       "            </tr>\n",
       "            <tr>\n",
       "                        <th id=\"T_92621378_342b_11eb_9267_9cb6d0c2091clevel0_row10\" class=\"row_heading level0 row10\" >19</th>\n",
       "                        <th id=\"T_92621378_342b_11eb_9267_9cb6d0c2091clevel1_row10\" class=\"row_heading level1 row10\" >Pursuit, Cudgel of Necromancy</th>\n",
       "                        <td id=\"T_92621378_342b_11eb_9267_9cb6d0c2091crow10_col0\" class=\"data row10 col0\" >$8.16</td>\n",
       "                        <td id=\"T_92621378_342b_11eb_9267_9cb6d0c2091crow10_col1\" class=\"data row10 col1\" >8</td>\n",
       "                        <td id=\"T_92621378_342b_11eb_9267_9cb6d0c2091crow10_col2\" class=\"data row10 col2\" >$1.02</td>\n",
       "            </tr>\n",
       "            <tr>\n",
       "                        <th id=\"T_92621378_342b_11eb_9267_9cb6d0c2091clevel0_row11\" class=\"row_heading level0 row11\" >60</th>\n",
       "                        <th id=\"T_92621378_342b_11eb_9267_9cb6d0c2091clevel1_row11\" class=\"row_heading level1 row11\" >Wolf</th>\n",
       "                        <td id=\"T_92621378_342b_11eb_9267_9cb6d0c2091crow11_col0\" class=\"data row11 col0\" >$28.32</td>\n",
       "                        <td id=\"T_92621378_342b_11eb_9267_9cb6d0c2091crow11_col1\" class=\"data row11 col1\" >8</td>\n",
       "                        <td id=\"T_92621378_342b_11eb_9267_9cb6d0c2091crow11_col2\" class=\"data row11 col2\" >$3.54</td>\n",
       "            </tr>\n",
       "            <tr>\n",
       "                        <th id=\"T_92621378_342b_11eb_9267_9cb6d0c2091clevel0_row12\" class=\"row_heading level0 row12\" >72</th>\n",
       "                        <th id=\"T_92621378_342b_11eb_9267_9cb6d0c2091clevel1_row12\" class=\"row_heading level1 row12\" >Winter's Bite</th>\n",
       "                        <td id=\"T_92621378_342b_11eb_9267_9cb6d0c2091crow12_col0\" class=\"data row12 col0\" >$30.16</td>\n",
       "                        <td id=\"T_92621378_342b_11eb_9267_9cb6d0c2091crow12_col1\" class=\"data row12 col1\" >8</td>\n",
       "                        <td id=\"T_92621378_342b_11eb_9267_9cb6d0c2091crow12_col2\" class=\"data row12 col2\" >$3.77</td>\n",
       "            </tr>\n",
       "            <tr>\n",
       "                        <th id=\"T_92621378_342b_11eb_9267_9cb6d0c2091clevel0_row13\" class=\"row_heading level0 row13\" >59</th>\n",
       "                        <th id=\"T_92621378_342b_11eb_9267_9cb6d0c2091clevel1_row13\" class=\"row_heading level1 row13\" >Lightning, Etcher of the King</th>\n",
       "                        <td id=\"T_92621378_342b_11eb_9267_9cb6d0c2091crow13_col0\" class=\"data row13 col0\" >$33.84</td>\n",
       "                        <td id=\"T_92621378_342b_11eb_9267_9cb6d0c2091crow13_col1\" class=\"data row13 col1\" >8</td>\n",
       "                        <td id=\"T_92621378_342b_11eb_9267_9cb6d0c2091crow13_col2\" class=\"data row13 col2\" >$4.23</td>\n",
       "            </tr>\n",
       "            <tr>\n",
       "                        <th id=\"T_92621378_342b_11eb_9267_9cb6d0c2091clevel0_row14\" class=\"row_heading level0 row14\" >78</th>\n",
       "                        <th id=\"T_92621378_342b_11eb_9267_9cb6d0c2091clevel1_row14\" class=\"row_heading level1 row14\" >Glimmer, Ender of the Moon</th>\n",
       "                        <td id=\"T_92621378_342b_11eb_9267_9cb6d0c2091crow14_col0\" class=\"data row14 col0\" >$30.8</td>\n",
       "                        <td id=\"T_92621378_342b_11eb_9267_9cb6d0c2091crow14_col1\" class=\"data row14 col1\" >7</td>\n",
       "                        <td id=\"T_92621378_342b_11eb_9267_9cb6d0c2091crow14_col2\" class=\"data row14 col2\" >$4.4</td>\n",
       "            </tr>\n",
       "            <tr>\n",
       "                        <th id=\"T_92621378_342b_11eb_9267_9cb6d0c2091clevel0_row15\" class=\"row_heading level0 row15\" >117</th>\n",
       "                        <th id=\"T_92621378_342b_11eb_9267_9cb6d0c2091clevel1_row15\" class=\"row_heading level1 row15\" >Heartstriker, Legacy of the Light</th>\n",
       "                        <td id=\"T_92621378_342b_11eb_9267_9cb6d0c2091crow15_col0\" class=\"data row15 col0\" >$12.53</td>\n",
       "                        <td id=\"T_92621378_342b_11eb_9267_9cb6d0c2091crow15_col1\" class=\"data row15 col1\" >7</td>\n",
       "                        <td id=\"T_92621378_342b_11eb_9267_9cb6d0c2091crow15_col2\" class=\"data row15 col2\" >$1.79</td>\n",
       "            </tr>\n",
       "            <tr>\n",
       "                        <th id=\"T_92621378_342b_11eb_9267_9cb6d0c2091clevel0_row16\" class=\"row_heading level0 row16\" >85</th>\n",
       "                        <th id=\"T_92621378_342b_11eb_9267_9cb6d0c2091clevel1_row16\" class=\"row_heading level1 row16\" >Malificent Bag</th>\n",
       "                        <td id=\"T_92621378_342b_11eb_9267_9cb6d0c2091crow16_col0\" class=\"data row16 col0\" >$12.25</td>\n",
       "                        <td id=\"T_92621378_342b_11eb_9267_9cb6d0c2091crow16_col1\" class=\"data row16 col1\" >7</td>\n",
       "                        <td id=\"T_92621378_342b_11eb_9267_9cb6d0c2091crow16_col2\" class=\"data row16 col2\" >$1.75</td>\n",
       "            </tr>\n",
       "            <tr>\n",
       "                        <th id=\"T_92621378_342b_11eb_9267_9cb6d0c2091clevel0_row17\" class=\"row_heading level0 row17\" >110</th>\n",
       "                        <th id=\"T_92621378_342b_11eb_9267_9cb6d0c2091clevel1_row17\" class=\"row_heading level1 row17\" >Suspension</th>\n",
       "                        <td id=\"T_92621378_342b_11eb_9267_9cb6d0c2091crow17_col0\" class=\"data row17 col0\" >$10.08</td>\n",
       "                        <td id=\"T_92621378_342b_11eb_9267_9cb6d0c2091crow17_col1\" class=\"data row17 col1\" >7</td>\n",
       "                        <td id=\"T_92621378_342b_11eb_9267_9cb6d0c2091crow17_col2\" class=\"data row17 col2\" >$1.44</td>\n",
       "            </tr>\n",
       "            <tr>\n",
       "                        <th id=\"T_92621378_342b_11eb_9267_9cb6d0c2091clevel0_row18\" class=\"row_heading level0 row18\" >71</th>\n",
       "                        <th id=\"T_92621378_342b_11eb_9267_9cb6d0c2091clevel1_row18\" class=\"row_heading level1 row18\" >Demise</th>\n",
       "                        <td id=\"T_92621378_342b_11eb_9267_9cb6d0c2091crow18_col0\" class=\"data row18 col0\" >$11.27</td>\n",
       "                        <td id=\"T_92621378_342b_11eb_9267_9cb6d0c2091crow18_col1\" class=\"data row18 col1\" >7</td>\n",
       "                        <td id=\"T_92621378_342b_11eb_9267_9cb6d0c2091crow18_col2\" class=\"data row18 col2\" >$1.61</td>\n",
       "            </tr>\n",
       "            <tr>\n",
       "                        <th id=\"T_92621378_342b_11eb_9267_9cb6d0c2091clevel0_row19\" class=\"row_heading level0 row19\" >53</th>\n",
       "                        <th id=\"T_92621378_342b_11eb_9267_9cb6d0c2091clevel1_row19\" class=\"row_heading level1 row19\" >Vengeance Cleaver</th>\n",
       "                        <td id=\"T_92621378_342b_11eb_9267_9cb6d0c2091crow19_col0\" class=\"data row19 col0\" >$14.35</td>\n",
       "                        <td id=\"T_92621378_342b_11eb_9267_9cb6d0c2091crow19_col1\" class=\"data row19 col1\" >7</td>\n",
       "                        <td id=\"T_92621378_342b_11eb_9267_9cb6d0c2091crow19_col2\" class=\"data row19 col2\" >$2.05</td>\n",
       "            </tr>\n",
       "    </tbody></table>"
      ],
      "text/plain": [
       "<pandas.io.formats.style.Styler at 0x18165a60ee0>"
      ]
     },
     "execution_count": 123,
     "metadata": {},
     "output_type": "execute_result"
    }
   ],
   "source": [
    "itemData = purchase_data_df.groupby(['Item ID', 'Item Name'])['Price'].agg(['sum', 'count', 'mean'])\n",
    "itemData.columns = [\"Item Total Sales\", \"Purchase Count\", \"Avg Item Price\"]\n",
    "itemData_df = pd.DataFrame(itemData).sort_values(\"Purchase Count\", ascending=False)\\\n",
    "                    .head(20).style.format({'Avg Item Price': '${:.6}', \n",
    "                    'Item Total Sales': '${:.4}'})\n",
    "itemData_df"
   ]
  },
  {
   "cell_type": "markdown",
   "metadata": {},
   "source": [
    "## Most Profitable Items"
   ]
  },
  {
   "cell_type": "markdown",
   "metadata": {},
   "source": [
    "* Sort the above table by total purchase value in descending order\n",
    "\n",
    "\n",
    "* Optional: give the displayed data cleaner formatting\n",
    "\n",
    "\n",
    "* Display a preview of the data frame\n",
    "\n"
   ]
  },
  {
   "cell_type": "code",
   "execution_count": 125,
   "metadata": {
    "scrolled": true
   },
   "outputs": [
    {
     "data": {
      "text/html": [
       "<style  type=\"text/css\" >\n",
       "</style><table id=\"T_e2546070_342b_11eb_9738_9cb6d0c2091c\" ><thead>    <tr>        <th class=\"blank\" ></th>        <th class=\"blank level0\" ></th>        <th class=\"col_heading level0 col0\" >Item Total Sales</th>        <th class=\"col_heading level0 col1\" >Purchase Count</th>        <th class=\"col_heading level0 col2\" >Avg Item Price</th>    </tr>    <tr>        <th class=\"index_name level0\" >Item ID</th>        <th class=\"index_name level1\" >Item Name</th>        <th class=\"blank\" ></th>        <th class=\"blank\" ></th>        <th class=\"blank\" ></th>    </tr></thead><tbody>\n",
       "                <tr>\n",
       "                        <th id=\"T_e2546070_342b_11eb_9738_9cb6d0c2091clevel0_row0\" class=\"row_heading level0 row0\" >92</th>\n",
       "                        <th id=\"T_e2546070_342b_11eb_9738_9cb6d0c2091clevel1_row0\" class=\"row_heading level1 row0\" >Final Critic</th>\n",
       "                        <td id=\"T_e2546070_342b_11eb_9738_9cb6d0c2091crow0_col0\" class=\"data row0 col0\" >$59.99</td>\n",
       "                        <td id=\"T_e2546070_342b_11eb_9738_9cb6d0c2091crow0_col1\" class=\"data row0 col1\" >13</td>\n",
       "                        <td id=\"T_e2546070_342b_11eb_9738_9cb6d0c2091crow0_col2\" class=\"data row0 col2\" >$4.61462</td>\n",
       "            </tr>\n",
       "            <tr>\n",
       "                        <th id=\"T_e2546070_342b_11eb_9738_9cb6d0c2091clevel0_row1\" class=\"row_heading level0 row1\" >178</th>\n",
       "                        <th id=\"T_e2546070_342b_11eb_9738_9cb6d0c2091clevel1_row1\" class=\"row_heading level1 row1\" >Oathbreaker, Last Hope of the Breaking Storm</th>\n",
       "                        <td id=\"T_e2546070_342b_11eb_9738_9cb6d0c2091crow1_col0\" class=\"data row1 col0\" >$50.76</td>\n",
       "                        <td id=\"T_e2546070_342b_11eb_9738_9cb6d0c2091crow1_col1\" class=\"data row1 col1\" >12</td>\n",
       "                        <td id=\"T_e2546070_342b_11eb_9738_9cb6d0c2091crow1_col2\" class=\"data row1 col2\" >$4.23</td>\n",
       "            </tr>\n",
       "            <tr>\n",
       "                        <th id=\"T_e2546070_342b_11eb_9738_9cb6d0c2091clevel0_row2\" class=\"row_heading level0 row2\" >82</th>\n",
       "                        <th id=\"T_e2546070_342b_11eb_9738_9cb6d0c2091clevel1_row2\" class=\"row_heading level1 row2\" >Nirvana</th>\n",
       "                        <td id=\"T_e2546070_342b_11eb_9738_9cb6d0c2091crow2_col0\" class=\"data row2 col0\" >$44.1</td>\n",
       "                        <td id=\"T_e2546070_342b_11eb_9738_9cb6d0c2091crow2_col1\" class=\"data row2 col1\" >9</td>\n",
       "                        <td id=\"T_e2546070_342b_11eb_9738_9cb6d0c2091crow2_col2\" class=\"data row2 col2\" >$4.9</td>\n",
       "            </tr>\n",
       "            <tr>\n",
       "                        <th id=\"T_e2546070_342b_11eb_9738_9cb6d0c2091clevel0_row3\" class=\"row_heading level0 row3\" >145</th>\n",
       "                        <th id=\"T_e2546070_342b_11eb_9738_9cb6d0c2091clevel1_row3\" class=\"row_heading level1 row3\" >Fiery Glass Crusader</th>\n",
       "                        <td id=\"T_e2546070_342b_11eb_9738_9cb6d0c2091crow3_col0\" class=\"data row3 col0\" >$41.22</td>\n",
       "                        <td id=\"T_e2546070_342b_11eb_9738_9cb6d0c2091crow3_col1\" class=\"data row3 col1\" >9</td>\n",
       "                        <td id=\"T_e2546070_342b_11eb_9738_9cb6d0c2091crow3_col2\" class=\"data row3 col2\" >$4.58</td>\n",
       "            </tr>\n",
       "            <tr>\n",
       "                        <th id=\"T_e2546070_342b_11eb_9738_9cb6d0c2091clevel0_row4\" class=\"row_heading level0 row4\" >103</th>\n",
       "                        <th id=\"T_e2546070_342b_11eb_9738_9cb6d0c2091clevel1_row4\" class=\"row_heading level1 row4\" >Singed Scalpel</th>\n",
       "                        <td id=\"T_e2546070_342b_11eb_9738_9cb6d0c2091crow4_col0\" class=\"data row4 col0\" >$34.8</td>\n",
       "                        <td id=\"T_e2546070_342b_11eb_9738_9cb6d0c2091crow4_col1\" class=\"data row4 col1\" >8</td>\n",
       "                        <td id=\"T_e2546070_342b_11eb_9738_9cb6d0c2091crow4_col2\" class=\"data row4 col2\" >$4.35</td>\n",
       "            </tr>\n",
       "    </tbody></table>"
      ],
      "text/plain": [
       "<pandas.io.formats.style.Styler at 0x181648d0700>"
      ]
     },
     "execution_count": 125,
     "metadata": {},
     "output_type": "execute_result"
    }
   ],
   "source": [
    "profitable_items = pd.DataFrame(itemData) \\\n",
    "                    .sort_values('Item Total Sales', ascending=False) \\\n",
    "                    .head(5).style.format({'Avg Item Price': '${:.6}',\n",
    "                                          'Item Total Sales': '${:.4}'})\n",
    "profitable_items"
   ]
  },
  {
   "cell_type": "code",
   "execution_count": null,
   "metadata": {},
   "outputs": [],
   "source": []
  }
 ],
 "metadata": {
  "anaconda-cloud": {},
  "kernel_info": {
   "name": "python3"
  },
  "kernelspec": {
   "display_name": "Python 3",
   "language": "python",
   "name": "python3"
  },
  "language_info": {
   "codemirror_mode": {
    "name": "ipython",
    "version": 3
   },
   "file_extension": ".py",
   "mimetype": "text/x-python",
   "name": "python",
   "nbconvert_exporter": "python",
   "pygments_lexer": "ipython3",
   "version": "3.8.3"
  },
  "latex_envs": {
   "LaTeX_envs_menu_present": true,
   "autoclose": false,
   "autocomplete": true,
   "bibliofile": "biblio.bib",
   "cite_by": "apalike",
   "current_citInitial": 1,
   "eqLabelWithNumbers": true,
   "eqNumInitial": 1,
   "hotkeys": {
    "equation": "Ctrl-E",
    "itemize": "Ctrl-I"
   },
   "labels_anchors": false,
   "latex_user_defs": false,
   "report_style_numbering": false,
   "user_envs_cfg": false
  },
  "nteract": {
   "version": "0.2.0"
  }
 },
 "nbformat": 4,
 "nbformat_minor": 2
}
